{
 "cells": [
  {
   "cell_type": "markdown",
   "metadata": {},
   "source": [
    "##### Iмпортую бiблiотеки."
   ]
  },
  {
   "cell_type": "code",
   "execution_count": 2,
   "metadata": {},
   "outputs": [
    {
     "name": "stderr",
     "output_type": "stream",
     "text": [
      "Using TensorFlow backend.\n"
     ]
    }
   ],
   "source": [
    "import keras\n",
    "import matplotlib.pyplot as plt\n",
    "from keras.datasets import mnist\n",
    "from keras.models import Sequential\n",
    "from keras.layers import Dense, Flatten\n",
    "from keras.utils.np_utils import to_categorical\n",
    "from keras import metrics\n",
    "import numpy as np\n",
    "import sympy as sp\n",
    "from fractions import Fraction\n",
    "import math\n",
    "from sklearn.neural_network import MLPClassifier\n",
    "from sklearn.metrics import classification_report,confusion_matrix"
   ]
  },
  {
   "cell_type": "markdown",
   "metadata": {},
   "source": [
    "##### Завантажую данi про картинки."
   ]
  },
  {
   "cell_type": "code",
   "execution_count": 3,
   "metadata": {},
   "outputs": [
    {
     "name": "stdout",
     "output_type": "stream",
     "text": [
      "Train data : (60000, 28, 28)\n",
      "Test data : (10000, 28, 28)\n"
     ]
    }
   ],
   "source": [
    "(trainData, trainAnswer), (testData, testAnswer) = mnist.load_data()\n",
    "print(\"Train data : {}\".format(trainData.shape))\n",
    "print(\"Test data : {}\".format(testData.shape))"
   ]
  },
  {
   "cell_type": "markdown",
   "metadata": {},
   "source": [
    "##### Реалiзував свою модель нейронної мережi."
   ]
  },
  {
   "cell_type": "code",
   "execution_count": 3,
   "metadata": {},
   "outputs": [],
   "source": [
    "class Perceptron:\n",
    "    def __init__ (self, activFunc = (lambda x: x), inputSize = 1):\n",
    "        self.activFunc = activFunc\n",
    "        self.inputSize = inputSize\n",
    "        self.weights = np.random.sample(inputSize)\n",
    "        self.outputValue = 0\n",
    "        self.lastInput = []\n",
    "        self.lastOutput = 0\n",
    "    \n",
    "    def output(self, inputData):\n",
    "        if len(inputData)!=self.inputSize:\n",
    "            raise ValueError('Invalid size! Received: {}, should be: {}.'.format(len(inputData), self.inputSize))\n",
    "        else:\n",
    "            self.lastInput = inputData\n",
    "            self.lastOutput = self.activFunc(self.wsm())\n",
    "            return self.activFunc(self.wsm())\n",
    "        \n",
    "    def wsm(self):\n",
    "        ws = 0\n",
    "        for i in range(self.inputSize):\n",
    "            ws+=self.weights[i]*self.lastInput[i]\n",
    "        return ws\n",
    "    \n",
    "\n",
    "class mlpNeurallNetwork:\n",
    "    def __init__ (self, size = (1,), activFunc = (lambda x: x), inputSize = 1, errorFunc = (lambda x, y: (x-y)**2)):\n",
    "        self.inputSize = inputSize\n",
    "        self.size = size+(1,)\n",
    "        self.perceptrons = []\n",
    "        self.errorFunc = errorFunc\n",
    "        for i in self.size:\n",
    "            self.perceptrons.append(i*[0])\n",
    "        presize = inputSize\n",
    "        for i in range(len(self.size)):\n",
    "            for j in range(self.size[i]):\n",
    "                self.perceptrons[i][j] = Perceptron(activFunc = activFunc, inputSize = presize)\n",
    "            presize = self.size[i]\n",
    "            \n",
    "            \n",
    "    def predict(self, inputData):\n",
    "        self.lastInput = inputData\n",
    "        oldInput = inputData\n",
    "        for layer in self.perceptrons:\n",
    "            newInput = []\n",
    "            for pc in layer:\n",
    "                newInput.append(pc.output(oldInput))\n",
    "            oldInput = newInput\n",
    "        return oldInput[0]\n",
    "    \n",
    "    def limit(self, func, x):\n",
    "        return 1\n",
    "    \n",
    "    def dfs(self, lossdif, layer, r):\n",
    "        if layer == -1:\n",
    "            return\n",
    "        for p in self.perceptrons[layer]:\n",
    "            lm = self.limit(p.activFunc, p.wsm())\n",
    "            for i in range(p.inputSize):\n",
    "                self.dfs(lm*lossdif*p.weights[i], layer-1, r)\n",
    "                p.weights[i]-=r*lm*self.lastInput[i]*lossdif\n",
    "                \n",
    "\n",
    "    \n",
    "    def fit(self, inputData, answerData, r = 0.01):\n",
    "        for i in range(len(inputData)):\n",
    "            lossdif = 2*(self.predict(inputData[i]) - answerData[i])\n",
    "            self.dfs(lossdif, len(self.size)-1, r)\n",
    "                                            \n",
    "                \n",
    "    "
   ]
  },
  {
   "cell_type": "markdown",
   "metadata": {},
   "source": [
    "##### Кодую данi в клас розмiрностi 10."
   ]
  },
  {
   "cell_type": "code",
   "execution_count": 4,
   "metadata": {},
   "outputs": [],
   "source": [
    "trainAnswer = to_categorical(trainAnswer, num_classes = 10)\n",
    "testAnswer = to_categorical(testAnswer, num_classes = 10)"
   ]
  },
  {
   "cell_type": "code",
   "execution_count": 5,
   "metadata": {},
   "outputs": [],
   "source": [
    "trainData = trainData/255.\n",
    "testData = testData/255."
   ]
  },
  {
   "cell_type": "code",
   "execution_count": 6,
   "metadata": {},
   "outputs": [
    {
     "name": "stdout",
     "output_type": "stream",
     "text": [
      "Train data : (60000, 784)\n",
      "Test data : (10000, 784)\n"
     ]
    }
   ],
   "source": [
    "n_train, h, w = trainData.shape\n",
    "n_test = testData.shape[0]\n",
    "\n",
    "trainData = trainData.reshape(n_train, h * w)\n",
    "testData = testData.reshape(n_test, h * w)\n",
    "print(\"Train data : {}\".format(trainData.shape))\n",
    "print(\"Test data : {}\".format(testData.shape))"
   ]
  },
  {
   "cell_type": "markdown",
   "metadata": {},
   "source": [
    "##### Створюю бiблiотечну модель, додаю до неї один прихований шар з 784 нейронiв, та один вихiдний шар - на 10."
   ]
  },
  {
   "cell_type": "code",
   "execution_count": 4,
   "metadata": {},
   "outputs": [
    {
     "name": "stdout",
     "output_type": "stream",
     "text": [
      "_________________________________________________________________\n",
      "Layer (type)                 Output Shape              Param #   \n",
      "=================================================================\n",
      "dense_1 (Dense)              (None, 784)               615440    \n",
      "_________________________________________________________________\n",
      "dense_2 (Dense)              (None, 10)                7850      \n",
      "=================================================================\n",
      "Total params: 623,290\n",
      "Trainable params: 623,290\n",
      "Non-trainable params: 0\n",
      "_________________________________________________________________\n"
     ]
    }
   ],
   "source": [
    "model = Sequential()\n",
    "model.add(Dense(784, input_dim = 784,  activation='relu', kernel_initializer=\"normal\"))\n",
    "model.add(Dense(10,  activation='softmax'))\n",
    "model.summary()\n",
    "model.compile(loss=\"categorical_crossentropy\", optimizer=\"adam\", metrics=[metrics.categorical_accuracy])"
   ]
  },
  {
   "cell_type": "markdown",
   "metadata": {},
   "source": [
    "##### Треную модель на ранiше завантажених даних."
   ]
  },
  {
   "cell_type": "code",
   "execution_count": 8,
   "metadata": {
    "scrolled": true
   },
   "outputs": [
    {
     "name": "stdout",
     "output_type": "stream",
     "text": [
      "Epoch 1/10\n",
      "60000/60000 [==============================] - 10s 161us/step - loss: 0.2805 - categorical_accuracy: 0.9199\n",
      "Epoch 2/10\n",
      "60000/60000 [==============================] - 9s 154us/step - loss: 0.1123 - categorical_accuracy: 0.9675\n",
      "Epoch 3/10\n",
      "60000/60000 [==============================] - 9s 152us/step - loss: 0.0716 - categorical_accuracy: 0.9798\n",
      "Epoch 4/10\n",
      "60000/60000 [==============================] - 9s 147us/step - loss: 0.0497 - categorical_accuracy: 0.9858\n",
      "Epoch 5/10\n",
      "60000/60000 [==============================] - 9s 149us/step - loss: 0.0347 - categorical_accuracy: 0.9902\n",
      "Epoch 6/10\n",
      "60000/60000 [==============================] - 9s 149us/step - loss: 0.0263 - categorical_accuracy: 0.9928\n",
      "Epoch 7/10\n",
      "60000/60000 [==============================] - 9s 146us/step - loss: 0.0202 - categorical_accuracy: 0.9948\n",
      "Epoch 8/10\n",
      "60000/60000 [==============================] - 9s 147us/step - loss: 0.0139 - categorical_accuracy: 0.9967\n",
      "Epoch 9/10\n",
      "60000/60000 [==============================] - 9s 150us/step - loss: 0.0105 - categorical_accuracy: 0.9976\n",
      "Epoch 10/10\n",
      "60000/60000 [==============================] - 9s 150us/step - loss: 0.0080 - categorical_accuracy: 0.9984\n"
     ]
    }
   ],
   "source": [
    "history = model.fit(trainData, trainAnswer, batch_size=200, epochs=10)"
   ]
  },
  {
   "cell_type": "markdown",
   "metadata": {},
   "source": [
    "##### Будую графiки втрат та точоcтей пiд час тренування."
   ]
  },
  {
   "cell_type": "code",
   "execution_count": 9,
   "metadata": {},
   "outputs": [
    {
     "data": {
      "image/png": "[encoded data removed]",
      "text/plain": [
       "<Figure size 1080x360 with 2 Axes>"
      ]
     },
     "metadata": {
      "needs_background": "light"
     },
     "output_type": "display_data"
    }
   ],
   "source": [
    "fig, (loss_graph, acc_graph) = plt.subplots(nrows=1, ncols=2, figsize=(15, 5))\n",
    "\n",
    "acc_list, loss_list = history.history['categorical_accuracy'], history.history['loss']\n",
    "\n",
    "listX = range(1, 11)\n",
    "loss_graph.plot(listX, loss_list);\n",
    "loss_graph.set_title('LOSS GRAPH');\n",
    "acc_graph.plot(listX, acc_list);\n",
    "acc_graph.set_title('ACCURACY GRAPH');"
   ]
  },
  {
   "cell_type": "markdown",
   "metadata": {},
   "source": [
    "##### Результати тренування."
   ]
  },
  {
   "cell_type": "code",
   "execution_count": 10,
   "metadata": {},
   "outputs": [
    {
     "name": "stdout",
     "output_type": "stream",
     "text": [
      "10000/10000 [==============================] - 1s 101us/step\n",
      "Loss on tests:  0.07000552951387362\n",
      "Accuracy:  0.9811\n"
     ]
    }
   ],
   "source": [
    "loss, accuracy = model.evaluate(testData, testAnswer)\n",
    "print('Loss on tests: ', loss)\n",
    "print('Accuracy: ', accuracy)"
   ]
  },
  {
   "cell_type": "markdown",
   "metadata": {},
   "source": [
    "##### Завантажую данi з сifar10."
   ]
  },
  {
   "cell_type": "code",
   "execution_count": 11,
   "metadata": {},
   "outputs": [],
   "source": [
    "from keras.datasets import cifar10"
   ]
  },
  {
   "cell_type": "code",
   "execution_count": 13,
   "metadata": {},
   "outputs": [
    {
     "name": "stdout",
     "output_type": "stream",
     "text": [
      "Train data : (50000, 32, 32, 3)\n",
      "Test data : (10000, 32, 32, 3)\n"
     ]
    }
   ],
   "source": [
    "(trainData, trainAnswer), (testData, testAnswer)  = cifar10.load_data()\n",
    "print(\"Train data : {}\".format(trainData.shape))\n",
    "print(\"Test data : {}\".format(testData.shape))"
   ]
  },
  {
   "cell_type": "code",
   "execution_count": 17,
   "metadata": {},
   "outputs": [
    {
     "name": "stdout",
     "output_type": "stream",
     "text": [
      "Train data : (50000, 3072)\n",
      "Test data : (10000, 3072)\n"
     ]
    }
   ],
   "source": [
    "n_train, height, width, channels = trainData.shape\n",
    "n_test = testData.shape[0]\n",
    "\n",
    "trainData = trainData.reshape(n_train, height*width*channels)\n",
    "testData = testData.reshape(n_test, height*width*channels)\n",
    "print(\"Train data : {}\".format(trainData.shape))\n",
    "print(\"Test data : {}\".format(testData.shape))"
   ]
  },
  {
   "cell_type": "code",
   "execution_count": 18,
   "metadata": {},
   "outputs": [],
   "source": [
    "trainData = trainData/255.\n",
    "testData = testData/255.\n",
    "\n",
    "trainAnswer = to_categorical(trainAnswer, num_classes = 10)\n",
    "testAnswer = to_categorical(testAnswer, num_classes = 10)"
   ]
  },
  {
   "cell_type": "markdown",
   "metadata": {},
   "source": [
    "##### Створюю нову модель, та додаю декiлька шарiв нейронiв. "
   ]
  },
  {
   "cell_type": "code",
   "execution_count": 24,
   "metadata": {},
   "outputs": [
    {
     "name": "stdout",
     "output_type": "stream",
     "text": [
      "_________________________________________________________________\n",
      "Layer (type)                 Output Shape              Param #   \n",
      "=================================================================\n",
      "dense_14 (Dense)             (None, 300)               921900    \n",
      "_________________________________________________________________\n",
      "dense_15 (Dense)             (None, 300)               90300     \n",
      "_________________________________________________________________\n",
      "dense_16 (Dense)             (None, 150)               45150     \n",
      "_________________________________________________________________\n",
      "dense_17 (Dense)             (None, 10)                1510      \n",
      "=================================================================\n",
      "Total params: 1,058,860\n",
      "Trainable params: 1,058,860\n",
      "Non-trainable params: 0\n",
      "_________________________________________________________________\n"
     ]
    }
   ],
   "source": [
    "newModel = Sequential()\n",
    "newModel.add(Dense(300, input_dim = 3072,  activation='relu', kernel_initializer=\"normal\"))\n",
    "newModel.add(Dense(300, input_dim = 3072,  activation='relu', kernel_initializer=\"normal\"))\n",
    "newModel.add(Dense(150, input_dim = 3072,  activation='relu', kernel_initializer=\"normal\"))\n",
    "newModel.add(Dense(10,  activation='softmax'))\n",
    "newModel.summary()\n",
    "newModel.compile(loss=\"categorical_crossentropy\", optimizer=\"adam\", metrics=[metrics.categorical_accuracy])"
   ]
  },
  {
   "cell_type": "markdown",
   "metadata": {},
   "source": [
    "##### Тренування моделi та побудова графiкiв."
   ]
  },
  {
   "cell_type": "code",
   "execution_count": 25,
   "metadata": {},
   "outputs": [
    {
     "name": "stdout",
     "output_type": "stream",
     "text": [
      "Epoch 1/10\n",
      "50000/50000 [==============================] - 11s 211us/step - loss: 1.9026 - categorical_accuracy: 0.3061\n",
      "Epoch 2/10\n",
      "50000/50000 [==============================] - 10s 199us/step - loss: 1.6691 - categorical_accuracy: 0.4033\n",
      "Epoch 3/10\n",
      "50000/50000 [==============================] - 10s 200us/step - loss: 1.5905 - categorical_accuracy: 0.4322\n",
      "Epoch 4/10\n",
      "50000/50000 [==============================] - 10s 200us/step - loss: 1.5278 - categorical_accuracy: 0.4522\n",
      "Epoch 5/10\n",
      "50000/50000 [==============================] - 10s 207us/step - loss: 1.4763 - categorical_accuracy: 0.4729\n",
      "Epoch 6/10\n",
      "50000/50000 [==============================] - 13s 253us/step - loss: 1.4335 - categorical_accuracy: 0.4895\n",
      "Epoch 7/10\n",
      "50000/50000 [==============================] - 11s 211us/step - loss: 1.3975 - categorical_accuracy: 0.5000\n",
      "Epoch 8/10\n",
      "50000/50000 [==============================] - 10s 205us/step - loss: 1.3691 - categorical_accuracy: 0.5122\n",
      "Epoch 9/10\n",
      "50000/50000 [==============================] - 10s 204us/step - loss: 1.3420 - categorical_accuracy: 0.5228\n",
      "Epoch 10/10\n",
      "50000/50000 [==============================] - 10s 203us/step - loss: 1.3128 - categorical_accuracy: 0.5310\n"
     ]
    }
   ],
   "source": [
    "history = newModel.fit(trainData, trainAnswer, batch_size=300, epochs=10)"
   ]
  },
  {
   "cell_type": "code",
   "execution_count": 26,
   "metadata": {},
   "outputs": [
    {
     "data": {
      "image/png": "[encoded data removed]",
      "text/plain": [
       "<Figure size 1080x360 with 2 Axes>"
      ]
     },
     "metadata": {
      "needs_background": "light"
     },
     "output_type": "display_data"
    }
   ],
   "source": [
    "fig, (loss_graph, acc_graph) = plt.subplots(nrows=1, ncols=2, figsize=(15, 5))\n",
    "\n",
    "acc_list, loss_list = history.history['categorical_accuracy'], history.history['loss']\n",
    "\n",
    "listX = range(1, 11)\n",
    "loss_graph.plot(listX, loss_list);\n",
    "loss_graph.set_title('LOSS GRAPH');\n",
    "acc_graph.plot(listX, acc_list);\n",
    "acc_graph.set_title('ACCURACY GRAPH');"
   ]
  },
  {
   "cell_type": "markdown",
   "metadata": {},
   "source": [
    "##### Результати при проходженнi тестових даних."
   ]
  },
  {
   "cell_type": "code",
   "execution_count": 28,
   "metadata": {},
   "outputs": [
    {
     "name": "stdout",
     "output_type": "stream",
     "text": [
      "10000/10000 [==============================] - 2s 164us/step\n",
      "Loss on tests:  1.38714591255188\n",
      "Accuracy:  0.5113\n"
     ]
    }
   ],
   "source": [
    "cftest_loss, cftest_accuracy = newModel.evaluate(testData, testAnswer)\n",
    "print('Loss on tests: ', cftest_loss)\n",
    "print('Accuracy: ', cftest_accuracy)"
   ]
  }
 ],
 "metadata": {
  "kernelspec": {
   "display_name": "Python 3",
   "language": "python",
   "name": "python3"
  },
  "language_info": {
   "codemirror_mode": {
    "name": "ipython",
    "version": 3
   },
   "file_extension": ".py",
   "mimetype": "text/x-python",
   "name": "python",
   "nbconvert_exporter": "python",
   "pygments_lexer": "ipython3",
   "version": "3.6.7"
  }
 },
 "nbformat": 4,
 "nbformat_minor": 2
}
